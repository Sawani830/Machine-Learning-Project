{
  "nbformat": 4,
  "nbformat_minor": 0,
  "metadata": {
    "colab": {
      "provenance": []
    },
    "kernelspec": {
      "name": "ir",
      "display_name": "R"
    },
    "language_info": {
      "name": "R"
    }
  },
  "cells": [
    {
      "cell_type": "code",
      "source": [
        "library(httr)  # For making HTTP requests\n",
        "library(jsonlite)  # For handling JSON data\n",
        "library(cluster)\n",
        "install.packages(\"proxy\")\n",
        "library(proxy)\n"
      ],
      "metadata": {
        "colab": {
          "base_uri": "https://localhost:8080/"
        },
        "id": "SDDlLLhtwfiy",
        "outputId": "b1acdc65-920e-4b80-91c0-951c2ab2cc44"
      },
      "execution_count": 6,
      "outputs": [
        {
          "output_type": "stream",
          "name": "stderr",
          "text": [
            "Installing package into ‘/usr/local/lib/R/site-library’\n",
            "(as ‘lib’ is unspecified)\n",
            "\n",
            "\n",
            "Attaching package: ‘proxy’\n",
            "\n",
            "\n",
            "The following objects are masked from ‘package:stats’:\n",
            "\n",
            "    as.dist, dist\n",
            "\n",
            "\n",
            "The following object is masked from ‘package:base’:\n",
            "\n",
            "    as.matrix\n",
            "\n",
            "\n"
          ]
        }
      ]
    },
    {
      "cell_type": "code",
      "source": [
        "api_url <- \"https://dog.ceo/api/breeds/list/all\"\n",
        "response <- GET(api_url)\n"
      ],
      "metadata": {
        "id": "hprCFPnmxcWV"
      },
      "execution_count": 7,
      "outputs": []
    },
    {
      "cell_type": "code",
      "source": [
        "# Check if the response is successful (status code 200)\n",
        "if (status_code(response) == 200) {\n",
        "  # Read the content of the response as text\n",
        "  response_text <- content(response, \"text\")\n",
        "\n",
        "  tryCatch({\n",
        "    # Parse JSON response\n",
        "    data <- fromJSON(response_text)\n",
        "\n",
        "    # Print the parsed data\n",
        "    print(data)\n",
        "  }, error = function(e) {\n",
        "    print(\"Error parsing JSON response:\")\n",
        "    print(e)\n",
        "  })\n",
        "} else {\n",
        "  # Print error message\n",
        "  print(paste(\"Error:\", status_code(response), \"-\", response$status))\n",
        "}\n"
      ],
      "metadata": {
        "colab": {
          "base_uri": "https://localhost:8080/"
        },
        "id": "A3eVO8xOxphY",
        "outputId": "64df4ab6-c2e9-4e61-9712-50ea5d0f0f33"
      },
      "execution_count": 8,
      "outputs": [
        {
          "output_type": "stream",
          "name": "stderr",
          "text": [
            "No encoding supplied: defaulting to UTF-8.\n",
            "\n"
          ]
        },
        {
          "output_type": "stream",
          "name": "stdout",
          "text": [
            "$message\n",
            "$message$affenpinscher\n",
            "list()\n",
            "\n",
            "$message$african\n",
            "list()\n",
            "\n",
            "$message$airedale\n",
            "list()\n",
            "\n",
            "$message$akita\n",
            "list()\n",
            "\n",
            "$message$appenzeller\n",
            "list()\n",
            "\n",
            "$message$australian\n",
            "[1] \"shepherd\"\n",
            "\n",
            "$message$basenji\n",
            "list()\n",
            "\n",
            "$message$beagle\n",
            "list()\n",
            "\n",
            "$message$bluetick\n",
            "list()\n",
            "\n",
            "$message$borzoi\n",
            "list()\n",
            "\n",
            "$message$bouvier\n",
            "list()\n",
            "\n",
            "$message$boxer\n",
            "list()\n",
            "\n",
            "$message$brabancon\n",
            "list()\n",
            "\n",
            "$message$briard\n",
            "list()\n",
            "\n",
            "$message$buhund\n",
            "[1] \"norwegian\"\n",
            "\n",
            "$message$bulldog\n",
            "[1] \"boston\"  \"english\" \"french\" \n",
            "\n",
            "$message$bullterrier\n",
            "[1] \"staffordshire\"\n",
            "\n",
            "$message$cattledog\n",
            "[1] \"australian\"\n",
            "\n",
            "$message$chihuahua\n",
            "list()\n",
            "\n",
            "$message$chow\n",
            "list()\n",
            "\n",
            "$message$clumber\n",
            "list()\n",
            "\n",
            "$message$cockapoo\n",
            "list()\n",
            "\n",
            "$message$collie\n",
            "[1] \"border\"\n",
            "\n",
            "$message$coonhound\n",
            "list()\n",
            "\n",
            "$message$corgi\n",
            "[1] \"cardigan\"\n",
            "\n",
            "$message$cotondetulear\n",
            "list()\n",
            "\n",
            "$message$dachshund\n",
            "list()\n",
            "\n",
            "$message$dalmatian\n",
            "list()\n",
            "\n",
            "$message$dane\n",
            "[1] \"great\"\n",
            "\n",
            "$message$deerhound\n",
            "[1] \"scottish\"\n",
            "\n",
            "$message$dhole\n",
            "list()\n",
            "\n",
            "$message$dingo\n",
            "list()\n",
            "\n",
            "$message$doberman\n",
            "list()\n",
            "\n",
            "$message$elkhound\n",
            "[1] \"norwegian\"\n",
            "\n",
            "$message$entlebucher\n",
            "list()\n",
            "\n",
            "$message$eskimo\n",
            "list()\n",
            "\n",
            "$message$finnish\n",
            "[1] \"lapphund\"\n",
            "\n",
            "$message$frise\n",
            "[1] \"bichon\"\n",
            "\n",
            "$message$germanshepherd\n",
            "list()\n",
            "\n",
            "$message$greyhound\n",
            "[1] \"italian\"\n",
            "\n",
            "$message$groenendael\n",
            "list()\n",
            "\n",
            "$message$havanese\n",
            "list()\n",
            "\n",
            "$message$hound\n",
            "[1] \"afghan\"  \"basset\"  \"blood\"   \"english\" \"ibizan\"  \"plott\"   \"walker\" \n",
            "\n",
            "$message$husky\n",
            "list()\n",
            "\n",
            "$message$keeshond\n",
            "list()\n",
            "\n",
            "$message$kelpie\n",
            "list()\n",
            "\n",
            "$message$komondor\n",
            "list()\n",
            "\n",
            "$message$kuvasz\n",
            "list()\n",
            "\n",
            "$message$labradoodle\n",
            "list()\n",
            "\n",
            "$message$labrador\n",
            "list()\n",
            "\n",
            "$message$leonberg\n",
            "list()\n",
            "\n",
            "$message$lhasa\n",
            "list()\n",
            "\n",
            "$message$malamute\n",
            "list()\n",
            "\n",
            "$message$malinois\n",
            "list()\n",
            "\n",
            "$message$maltese\n",
            "list()\n",
            "\n",
            "$message$mastiff\n",
            "[1] \"bull\"    \"english\" \"tibetan\"\n",
            "\n",
            "$message$mexicanhairless\n",
            "list()\n",
            "\n",
            "$message$mix\n",
            "list()\n",
            "\n",
            "$message$mountain\n",
            "[1] \"bernese\" \"swiss\"  \n",
            "\n",
            "$message$newfoundland\n",
            "list()\n",
            "\n",
            "$message$otterhound\n",
            "list()\n",
            "\n",
            "$message$ovcharka\n",
            "[1] \"caucasian\"\n",
            "\n",
            "$message$papillon\n",
            "list()\n",
            "\n",
            "$message$pekinese\n",
            "list()\n",
            "\n",
            "$message$pembroke\n",
            "list()\n",
            "\n",
            "$message$pinscher\n",
            "[1] \"miniature\"\n",
            "\n",
            "$message$pitbull\n",
            "list()\n",
            "\n",
            "$message$pointer\n",
            "[1] \"german\"         \"germanlonghair\"\n",
            "\n",
            "$message$pomeranian\n",
            "list()\n",
            "\n",
            "$message$poodle\n",
            "[1] \"medium\"    \"miniature\" \"standard\"  \"toy\"      \n",
            "\n",
            "$message$pug\n",
            "list()\n",
            "\n",
            "$message$puggle\n",
            "list()\n",
            "\n",
            "$message$pyrenees\n",
            "list()\n",
            "\n",
            "$message$redbone\n",
            "list()\n",
            "\n",
            "$message$retriever\n",
            "[1] \"chesapeake\" \"curly\"      \"flatcoated\" \"golden\"    \n",
            "\n",
            "$message$ridgeback\n",
            "[1] \"rhodesian\"\n",
            "\n",
            "$message$rottweiler\n",
            "list()\n",
            "\n",
            "$message$saluki\n",
            "list()\n",
            "\n",
            "$message$samoyed\n",
            "list()\n",
            "\n",
            "$message$schipperke\n",
            "list()\n",
            "\n",
            "$message$schnauzer\n",
            "[1] \"giant\"     \"miniature\"\n",
            "\n",
            "$message$segugio\n",
            "[1] \"italian\"\n",
            "\n",
            "$message$setter\n",
            "[1] \"english\" \"gordon\"  \"irish\"  \n",
            "\n",
            "$message$sharpei\n",
            "list()\n",
            "\n",
            "$message$sheepdog\n",
            "[1] \"english\"  \"shetland\"\n",
            "\n",
            "$message$shiba\n",
            "list()\n",
            "\n",
            "$message$shihtzu\n",
            "list()\n",
            "\n",
            "$message$spaniel\n",
            "[1] \"blenheim\" \"brittany\" \"cocker\"   \"irish\"    \"japanese\" \"sussex\"   \"welsh\"   \n",
            "\n",
            "$message$spitz\n",
            "[1] \"japanese\"\n",
            "\n",
            "$message$springer\n",
            "[1] \"english\"\n",
            "\n",
            "$message$stbernard\n",
            "list()\n",
            "\n",
            "$message$terrier\n",
            " [1] \"american\"     \"australian\"   \"bedlington\"   \"border\"       \"cairn\"       \n",
            " [6] \"dandie\"       \"fox\"          \"irish\"        \"kerryblue\"    \"lakeland\"    \n",
            "[11] \"norfolk\"      \"norwich\"      \"patterdale\"   \"russell\"      \"scottish\"    \n",
            "[16] \"sealyham\"     \"silky\"        \"tibetan\"      \"toy\"          \"welsh\"       \n",
            "[21] \"westhighland\" \"wheaten\"      \"yorkshire\"   \n",
            "\n",
            "$message$tervuren\n",
            "list()\n",
            "\n",
            "$message$vizsla\n",
            "list()\n",
            "\n",
            "$message$waterdog\n",
            "[1] \"spanish\"\n",
            "\n",
            "$message$weimaraner\n",
            "list()\n",
            "\n",
            "$message$whippet\n",
            "list()\n",
            "\n",
            "$message$wolfhound\n",
            "[1] \"irish\"\n",
            "\n",
            "\n",
            "$status\n",
            "[1] \"success\"\n",
            "\n"
          ]
        }
      ]
    },
    {
      "cell_type": "code",
      "source": [
        "breed_counts <- sapply(data$message, length)\n",
        "breed_df <- data.frame(Breed = names(breed_counts), Count = breed_counts)\n",
        "print(breed_df)\n"
      ],
      "metadata": {
        "colab": {
          "base_uri": "https://localhost:8080/"
        },
        "id": "GNVt4YhGzlfA",
        "outputId": "94560742-c40e-48d2-967e-9df4799a3b37"
      },
      "execution_count": 9,
      "outputs": [
        {
          "output_type": "stream",
          "name": "stdout",
          "text": [
            "                          Breed Count\n",
            "affenpinscher     affenpinscher     0\n",
            "african                 african     0\n",
            "airedale               airedale     0\n",
            "akita                     akita     0\n",
            "appenzeller         appenzeller     0\n",
            "australian           australian     1\n",
            "basenji                 basenji     0\n",
            "beagle                   beagle     0\n",
            "bluetick               bluetick     0\n",
            "borzoi                   borzoi     0\n",
            "bouvier                 bouvier     0\n",
            "boxer                     boxer     0\n",
            "brabancon             brabancon     0\n",
            "briard                   briard     0\n",
            "buhund                   buhund     1\n",
            "bulldog                 bulldog     3\n",
            "bullterrier         bullterrier     1\n",
            "cattledog             cattledog     1\n",
            "chihuahua             chihuahua     0\n",
            "chow                       chow     0\n",
            "clumber                 clumber     0\n",
            "cockapoo               cockapoo     0\n",
            "collie                   collie     1\n",
            "coonhound             coonhound     0\n",
            "corgi                     corgi     1\n",
            "cotondetulear     cotondetulear     0\n",
            "dachshund             dachshund     0\n",
            "dalmatian             dalmatian     0\n",
            "dane                       dane     1\n",
            "deerhound             deerhound     1\n",
            "dhole                     dhole     0\n",
            "dingo                     dingo     0\n",
            "doberman               doberman     0\n",
            "elkhound               elkhound     1\n",
            "entlebucher         entlebucher     0\n",
            "eskimo                   eskimo     0\n",
            "finnish                 finnish     1\n",
            "frise                     frise     1\n",
            "germanshepherd   germanshepherd     0\n",
            "greyhound             greyhound     1\n",
            "groenendael         groenendael     0\n",
            "havanese               havanese     0\n",
            "hound                     hound     7\n",
            "husky                     husky     0\n",
            "keeshond               keeshond     0\n",
            "kelpie                   kelpie     0\n",
            "komondor               komondor     0\n",
            "kuvasz                   kuvasz     0\n",
            "labradoodle         labradoodle     0\n",
            "labrador               labrador     0\n",
            "leonberg               leonberg     0\n",
            "lhasa                     lhasa     0\n",
            "malamute               malamute     0\n",
            "malinois               malinois     0\n",
            "maltese                 maltese     0\n",
            "mastiff                 mastiff     3\n",
            "mexicanhairless mexicanhairless     0\n",
            "mix                         mix     0\n",
            "mountain               mountain     2\n",
            "newfoundland       newfoundland     0\n",
            "otterhound           otterhound     0\n",
            "ovcharka               ovcharka     1\n",
            "papillon               papillon     0\n",
            "pekinese               pekinese     0\n",
            "pembroke               pembroke     0\n",
            "pinscher               pinscher     1\n",
            "pitbull                 pitbull     0\n",
            "pointer                 pointer     2\n",
            "pomeranian           pomeranian     0\n",
            "poodle                   poodle     4\n",
            "pug                         pug     0\n",
            "puggle                   puggle     0\n",
            "pyrenees               pyrenees     0\n",
            "redbone                 redbone     0\n",
            "retriever             retriever     4\n",
            "ridgeback             ridgeback     1\n",
            "rottweiler           rottweiler     0\n",
            "saluki                   saluki     0\n",
            "samoyed                 samoyed     0\n",
            "schipperke           schipperke     0\n",
            "schnauzer             schnauzer     2\n",
            "segugio                 segugio     1\n",
            "setter                   setter     3\n",
            "sharpei                 sharpei     0\n",
            "sheepdog               sheepdog     2\n",
            "shiba                     shiba     0\n",
            "shihtzu                 shihtzu     0\n",
            "spaniel                 spaniel     7\n",
            "spitz                     spitz     1\n",
            "springer               springer     1\n",
            "stbernard             stbernard     0\n",
            "terrier                 terrier    23\n",
            "tervuren               tervuren     0\n",
            "vizsla                   vizsla     0\n",
            "waterdog               waterdog     1\n",
            "weimaraner           weimaraner     0\n",
            "whippet                 whippet     0\n",
            "wolfhound             wolfhound     1\n"
          ]
        }
      ]
    },
    {
      "cell_type": "code",
      "source": [
        "# Install and load necessary libraries\n",
        "install.packages(\"dendextend\")\n",
        "library(dendextend)"
      ],
      "metadata": {
        "colab": {
          "base_uri": "https://localhost:8080/"
        },
        "id": "x6S-gHWz0575",
        "outputId": "e14111d8-2b9f-40a4-a81a-a648a7e0932c"
      },
      "execution_count": 10,
      "outputs": [
        {
          "output_type": "stream",
          "name": "stderr",
          "text": [
            "Installing package into ‘/usr/local/lib/R/site-library’\n",
            "(as ‘lib’ is unspecified)\n",
            "\n",
            "also installing the dependencies ‘gridExtra’, ‘viridis’\n",
            "\n",
            "\n",
            "\n",
            "---------------------\n",
            "Welcome to dendextend version 1.17.1\n",
            "Type citation('dendextend') for how to cite the package.\n",
            "\n",
            "Type browseVignettes(package = 'dendextend') for the package vignette.\n",
            "The github page is: https://github.com/talgalili/dendextend/\n",
            "\n",
            "Suggestions and bug-reports can be submitted at: https://github.com/talgalili/dendextend/issues\n",
            "You may ask questions at stackoverflow, use the r and dendextend tags: \n",
            "\t https://stackoverflow.com/questions/tagged/dendextend\n",
            "\n",
            "\tTo suppress this message use:  suppressPackageStartupMessages(library(dendextend))\n",
            "---------------------\n",
            "\n",
            "\n",
            "\n",
            "Attaching package: ‘dendextend’\n",
            "\n",
            "\n",
            "The following object is masked from ‘package:stats’:\n",
            "\n",
            "    cutree\n",
            "\n",
            "\n"
          ]
        }
      ]
    },
    {
      "cell_type": "code",
      "source": [
        "hc <- hclust(dist(breed_df$Count))\n",
        "dend <- as.dendrogram(hc)"
      ],
      "metadata": {
        "id": "I9yZvLti1Hbf"
      },
      "execution_count": 11,
      "outputs": []
    },
    {
      "cell_type": "code",
      "source": [
        "dend"
      ],
      "metadata": {
        "colab": {
          "base_uri": "https://localhost:8080/",
          "height": 34
        },
        "id": "p3n8H7BP1YEw",
        "outputId": "ef3cb691-6635-4e76-fcd1-3bd10c05f16f"
      },
      "execution_count": 12,
      "outputs": [
        {
          "output_type": "display_data",
          "data": {
            "text/plain": [
              "'dendrogram' with 2 branches and 98 members total, at height 23 "
            ]
          },
          "metadata": {}
        }
      ]
    },
    {
      "cell_type": "code",
      "source": [
        "hc"
      ],
      "metadata": {
        "colab": {
          "base_uri": "https://localhost:8080/",
          "height": 138
        },
        "id": "84Yqs0f91a7S",
        "outputId": "e7033dc2-f1a4-4aac-dc99-71390b24c9f0"
      },
      "execution_count": 13,
      "outputs": [
        {
          "output_type": "display_data",
          "data": {
            "text/plain": [
              "\n",
              "Call:\n",
              "hclust(d = dist(breed_df$Count))\n",
              "\n",
              "Cluster method   : complete \n",
              "Distance         : Euclidean \n",
              "Number of objects: 98 \n"
            ]
          },
          "metadata": {}
        }
      ]
    },
    {
      "cell_type": "code",
      "source": [
        "cosine_dist <- function(x, y) {\n",
        "  1 - sum(x * y) / (sqrt(sum(x^2)) * sqrt(sum(y^2)))\n",
        "}"
      ],
      "metadata": {
        "id": "5-ollJx-10gV"
      },
      "execution_count": 14,
      "outputs": []
    },
    {
      "cell_type": "code",
      "source": [
        "breed_df$Count <- as.numeric(breed_df$Count)\n",
        "str(breed_df)\n"
      ],
      "metadata": {
        "colab": {
          "base_uri": "https://localhost:8080/"
        },
        "id": "b_CtpIJ52wh4",
        "outputId": "b106b1ff-2b12-460c-8c19-21d8e49b4fd8"
      },
      "execution_count": 15,
      "outputs": [
        {
          "output_type": "stream",
          "name": "stdout",
          "text": [
            "'data.frame':\t98 obs. of  2 variables:\n",
            " $ Breed: chr  \"affenpinscher\" \"african\" \"airedale\" \"akita\" ...\n",
            " $ Count: num  0 0 0 0 0 1 0 0 0 0 ...\n"
          ]
        }
      ]
    },
    {
      "cell_type": "code",
      "source": [
        "dist_matrix <- dist(breed_df[-1], method = \"cosine\")\n"
      ],
      "metadata": {
        "id": "itW56OoH28FW"
      },
      "execution_count": 16,
      "outputs": []
    },
    {
      "cell_type": "code",
      "source": [
        "hc <- hclust(dist_matrix, method = \"complete\")\n"
      ],
      "metadata": {
        "id": "GqkjkYdT3Blc"
      },
      "execution_count": 17,
      "outputs": []
    },
    {
      "cell_type": "code",
      "source": [
        "options(repr.plot.width = 20, repr.plot.height = 18)\n",
        "\n",
        "plot(hc, main = \"Hierarchical Clustering of Dog Breeds\", xlab = \"Dog Breeds\", ylab = \"Distance\")\n"
      ],
      "metadata": {
        "colab": {
          "base_uri": "https://localhost:8080/",
          "height": 1000
        },
        "id": "Oe0HuXyP3Dte",
        "outputId": "57b51c33-e9e6-44bd-f347-5f3618deabff"
      },
      "execution_count": 18,
      "outputs": [
        {
          "output_type": "display_data",
          "data": {
            "text/plain": [
              "Plot with title “Hierarchical Clustering of Dog Breeds”"
            ],
            "image/png": "[encoded data removed]"
          },
          "metadata": {
            "image/png": {
              "width": 1200,
              "height": 1080
            }
          }
        }
      ]
    },
    {
      "cell_type": "code",
      "source": [
        "# Read the CSV file\n",
        "breed_df <- read.csv(\"dog_breeds.csv\")\n",
        "\n",
        "# Check the structure of the dataframe\n",
        "str(breed_df)\n",
        "\n",
        "breed_df$Height <- sapply(strsplit(breed_df$Height..in., \"-\"), function(x) as.numeric(x[1]))\n",
        "breed_df$Longevity <- sapply(strsplit(breed_df$Longevity..yrs., \"-\"), function(x) as.numeric(x[1]))\n",
        "numeric_cols <- c(\"Height\", \"Longevity\")\n",
        "\n",
        "# Compute cosine distance\n",
        "cosine_dist <- dist(breed_df[numeric_cols], method = \"cosine\")\n",
        "\n",
        "# Perform hierarchical clustering\n",
        "hc <- hclust(cosine_dist, method = \"complete\")\n",
        "\n",
        "# Plot the dendrogram\n",
        "plot(hc, main = \"Hierarchical Clustering of Dog Breeds\", xlab = \"Dog Breeds\", ylab = \"Distance\")\n",
        "\n"
      ],
      "metadata": {
        "id": "bqLMGVab3GAf",
        "colab": {
          "base_uri": "https://localhost:8080/",
          "height": 1000
        },
        "outputId": "5bfd1080-baa0-46ec-b1b5-f096d258b3fb"
      },
      "execution_count": 19,
      "outputs": [
        {
          "output_type": "stream",
          "name": "stdout",
          "text": [
            "'data.frame':\t117 obs. of  8 variables:\n",
            " $ Breed                 : chr  \"Labrador Retriever\" \"German Shepherd\" \"Bulldog\" \"Poodle\" ...\n",
            " $ Country.of.Origin     : chr  \"Canada\" \"Germany\" \"England\" \"France\" ...\n",
            " $ Fur.Color             : chr  \"Yellow, Black, Chocolate\" \"Black, Tan\" \"White, Red\" \"White, Black, Brown, Apricot\" ...\n",
            " $ Height..in.           : chr  \"21-24\" \"22-26\" \"12-16\" \"10-15\" ...\n",
            " $ Color.of.Eyes         : chr  \"Brown\" \"Brown\" \"Brown\" \"Brown, Blue\" ...\n",
            " $ Longevity..yrs.       : chr  \"10-12\" \"7-10\" \"8-10\" \"12-15\" ...\n",
            " $ Character.Traits      : chr  \"Loyal, friendly, intelligent, energetic, good-natured\" \"Loyal, intelligent, protective, confident, trainable\" \"Loyal, calm, gentle, brave\" \"Intelligent, active, affectionate, hypoallergenic\" ...\n",
            " $ Common.Health.Problems: chr  \"Hip dysplasia, obesity, ear infections\" \"Hip dysplasia, elbow dysplasia, pancreatitis\" \"Skin allergies, respiratory issues, obesity\" \"Hip dysplasia, epilepsy, bladder stones\" ...\n"
          ]
        },
        {
          "output_type": "display_data",
          "data": {
            "text/plain": [
              "Plot with title “Hierarchical Clustering of Dog Breeds”"
            ],
            "image/png": "[encoded data removed]"
          },
          "metadata": {
            "image/png": {
              "width": 1200,
              "height": 1080
            }
          }
        }
      ]
    },
    {
      "cell_type": "code",
      "source": [
        "install.packages(\"arules\")\n"
      ],
      "metadata": {
        "colab": {
          "base_uri": "https://localhost:8080/"
        },
        "id": "b4G5jFZNaned",
        "outputId": "a22559dc-081c-4e24-8350-b3660d1aa504"
      },
      "execution_count": 21,
      "outputs": [
        {
          "output_type": "stream",
          "name": "stderr",
          "text": [
            "Installing package into ‘/usr/local/lib/R/site-library’\n",
            "(as ‘lib’ is unspecified)\n",
            "\n"
          ]
        }
      ]
    },
    {
      "cell_type": "code",
      "source": [
        "# Load required libraries\n",
        "library(arules)\n",
        "library(arulesViz)\n",
        "\n",
        "# Read the dataset\n",
        "df <- read.csv(\"dog_breeds.csv\")\n",
        "\n",
        "# Perform one-hot encoding to convert categorical variables into numerical format\n",
        "df_encoded <- as(df, \"transactions\")\n",
        "\n",
        "# Perform Apriori algorithm to find frequent itemsets\n",
        "frequent_itemsets <- apriori(df_encoded, parameter = list(support = 0.1, confidence = 0.8, minlen = 2))\n",
        "\n",
        "# Extract association rules from frequent itemsets\n",
        "rules <- ruleInduction(frequent_itemsets)\n",
        "\n",
        "# Display the association rules\n",
        "inspect(head(rules, n = 20))\n"
      ],
      "metadata": {
        "colab": {
          "base_uri": "https://localhost:8080/",
          "height": 106
        },
        "id": "HU48eONkctnt",
        "outputId": "43b5948f-35c8-4ac8-b6df-c72a04e11c6e"
      },
      "execution_count": 2,
      "outputs": [
        {
          "output_type": "error",
          "ename": "ERROR",
          "evalue": "Error in library(arulesViz): there is no package called ‘arulesViz’\n",
          "traceback": [
            "Error in library(arulesViz): there is no package called ‘arulesViz’\nTraceback:\n",
            "1. library(arulesViz)"
          ]
        }
      ]
    },
    {
      "cell_type": "code",
      "source": [],
      "metadata": {
        "id": "ZjABQWbGc5Tw"
      },
      "execution_count": null,
      "outputs": []
    }
  ]
}